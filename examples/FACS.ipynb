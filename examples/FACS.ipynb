{
 "cells": [
  {
   "cell_type": "code",
   "execution_count": null,
   "metadata": {},
   "outputs": [],
   "source": [
    "import multiscale_phate\n",
    "import pandas as pd"
   ]
  },
  {
   "cell_type": "code",
   "execution_count": 105,
   "metadata": {},
   "outputs": [],
   "source": [
    "### Larger dataset\n",
    "\n",
    "path = \"/data/lab/datasets/Iwasaki_covid_facs/variables/data_7_24_2020/patients_only/\"\n",
    "facs_sqrt = pd.read_pickle(path+\"myeloid_sqrt.pickle\")"
   ]
  },
  {
   "cell_type": "code",
   "execution_count": 106,
   "metadata": {},
   "outputs": [],
   "source": [
    "chosen_idx = np.random.choice(facs_sqrt.shape[0], replace=False, size=2000000)"
   ]
  },
  {
   "cell_type": "code",
   "execution_count": 107,
   "metadata": {},
   "outputs": [],
   "source": [
    "subset_sqrt = facs_sqrt.iloc[chosen_idx[:500000],:]\n",
    "superset_sqrt = facs_sqrt.iloc[chosen_idx[500000:],:]"
   ]
  },
  {
   "cell_type": "code",
   "execution_count": null,
   "metadata": {},
   "outputs": [],
   "source": []
  },
  {
   "cell_type": "code",
   "execution_count": 110,
   "metadata": {},
   "outputs": [
    {
     "name": "stdout",
     "output_type": "stream",
     "text": [
      "Computing Principle Components...\n",
      "  Computed Principle Components in 0.691 seconds...\n",
      "Computing Partitions...\n",
      "  Computed Partitions in 218.747 seconds...\n",
      "Computing Diffusion Potential...\n",
      "  Computed Diffusion Potential in 33.52 seconds...\n",
      "Setting epsilon to 0.9045\n",
      "Setting merge threshold to 0.001\n",
      "Condensing data...\n",
      "  Condensed data in 140.446 seconds...\n",
      "Computed full Multiscale PHATE tree in 437.813 seconds...\n"
     ]
    }
   ],
   "source": [
    "mp_op = multiscale_phate.Multiscale_PHATE()\n",
    "hp_embedding, cluster_viz, sizes_viz, tree = mp_op.fit_transform(superset_sqrt)"
   ]
  },
  {
   "cell_type": "code",
   "execution_count": 111,
   "metadata": {},
   "outputs": [
    {
     "data": {
      "text/plain": [
       "160"
      ]
     },
     "execution_count": 111,
     "metadata": {},
     "output_type": "execute_result"
    }
   ],
   "source": [
    "scprep.plot.scatter2d(hp_embedding, s = sizes_viz, c = cluster_viz,\n",
    "                      fontsize=16, ticks=False,label_prefix=\"Multiscale-PHATE\", figsize=(16,12))"
   ]
  },
  {
   "cell_type": "code",
   "execution_count": 112,
   "metadata": {},
   "outputs": [],
   "source": [
    "scprep.plot.scatter3d(tree, c=tree[:,2],fontsize=16, ticks=False, label_prefix=\"C-PHATE\", figsize=(16,12), s=20)"
   ]
  },
  {
   "cell_type": "code",
   "execution_count": null,
   "metadata": {},
   "outputs": [],
   "source": []
  },
  {
   "cell_type": "code",
   "execution_count": null,
   "metadata": {},
   "outputs": [],
   "source": [
    "### updating"
   ]
  },
  {
   "cell_type": "code",
   "execution_count": 119,
   "metadata": {},
   "outputs": [
    {
     "name": "stdout",
     "output_type": "stream",
     "text": [
      "PCA Compressing new data...\n",
      "Mapping new data to computed partitions...\n",
      "  Computed mapping in 184.729 seconds...\n",
      "Points not mapped to partitions: 670\n",
      "Computing new Diffusion Potential...\n",
      "  Built kernel in 1.002 seconds...\n",
      "  Computed extended Diffusion Potential in 2.148 seconds...\n",
      "Setting epsilon to 0.9051\n",
      "Setting merge threshold to 0.001\n",
      "Condensing data...\n",
      "  Condensed data in 143.676 seconds...\n",
      "Computed Multiscale PHATE tree mapping in 377.651 seconds...\n"
     ]
    }
   ],
   "source": [
    "hp_embedding_2, cluster_viz_2, sizes_viz_2, tree_2 = mp_op.transform(subset_sqrt)"
   ]
  },
  {
   "cell_type": "code",
   "execution_count": 120,
   "metadata": {},
   "outputs": [
    {
     "data": {
      "text/plain": [
       "39305"
      ]
     },
     "execution_count": 120,
     "metadata": {},
     "output_type": "execute_result"
    }
   ],
   "source": [
    "scprep.plot.scatter2d(hp_embedding_2, s = sizes_viz_2, c = cluster_viz_2,\n",
    "                      fontsize=16, ticks=False,label_prefix=\"Multiscale-PHATE\", figsize=(16,12))"
   ]
  },
  {
   "cell_type": "code",
   "execution_count": 127,
   "metadata": {},
   "outputs": [
    {
     "data": {
      "text/plain": [
       "38635"
      ]
     },
     "execution_count": 127,
     "metadata": {},
     "output_type": "execute_result"
    }
   ],
   "source": [
    "scprep.plot.scatter3d(tree_2, c=tree_2[:,2],fontsize=16, ticks=False, label_prefix=\"C-PHATE\", figsize=(16,12), s=20)"
   ]
  }
 ],
 "metadata": {
  "kernelspec": {
   "display_name": "Python 3",
   "language": "python",
   "name": "python3"
  },
  "language_info": {
   "codemirror_mode": {
    "name": "ipython",
    "version": 3
   },
   "file_extension": ".py",
   "mimetype": "text/x-python",
   "name": "python",
   "nbconvert_exporter": "python",
   "pygments_lexer": "ipython3",
   "version": "3.7.6"
  }
 },
 "nbformat": 4,
 "nbformat_minor": 4
}
